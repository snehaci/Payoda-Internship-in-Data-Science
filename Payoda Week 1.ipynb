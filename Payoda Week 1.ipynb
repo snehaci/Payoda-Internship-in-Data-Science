{
 "cells": [
  {
   "cell_type": "code",
   "execution_count": 15,
   "id": "85477a7e",
   "metadata": {},
   "outputs": [
    {
     "name": "stdout",
     "output_type": "stream",
     "text": [
      "Enter the list elements: 1 2.3 True cat\n",
      "\n",
      "List1 elements are: ['1', '2.3', 'True', 'cat']\n",
      "\n",
      "Length:  ['1', '2.3', 'True', 'cat']\n",
      "\n",
      "After modifying the elements:  [[1, 2, 3], '2.3', 'True', 'cat']\n",
      "\n",
      "Accessing the elements in a list:  3\n",
      "\n",
      "Slicing odd position elements:  [[1, 2, 3], 'True']\n",
      "\n",
      "Yes\n"
     ]
    }
   ],
   "source": [
    "#LIST\n",
    "List1 = list(input(\"Enter the list elements: \").split())\n",
    "print(\"\\nList1 elements are:\",List1)\n",
    "\n",
    "print(\"\\nLength: \",List1) # List length\n",
    "\n",
    "List1[0] = [1,2,3] # Nested List\n",
    "print('\\nAfter modifying the elements: ',List1)\n",
    "\n",
    "print('\\nAccessing the elements in a list: ',List1[0][-1]) # Acessing elements\n",
    "\n",
    "print('\\nSlicing odd position elements: ',List1[0::2]) # Slicing\n",
    "\n",
    "print(\"\\nYes\" if 'True' in List1 else \"\\nNo\") #Checks for the value in list"
   ]
  },
  {
   "cell_type": "code",
   "execution_count": 20,
   "id": "adddfb29",
   "metadata": {},
   "outputs": [
    {
     "name": "stdout",
     "output_type": "stream",
     "text": [
      "\n",
      " [[3, 4, 5], [3, 6, 7]]\n",
      "\n",
      " [[3, 4, 5], [3, 6, 24]]\n",
      "\n",
      "Matrix elements are: \n",
      "3\n",
      "4\n",
      "5\n",
      "3\n",
      "6\n",
      "24\n"
     ]
    }
   ],
   "source": [
    "#2D Lists \n",
    "matrix = [[3,4,5],[3,6,7]]\n",
    "print('\\n',matrix)\n",
    "matrix[1][2]=24\n",
    "print('\\n',matrix)\n",
    "\n",
    "print(\"\\nMatrix elements are: \")\n",
    "for row in matrix:\n",
    "    for item in row:\n",
    "        print(item)"
   ]
  },
  {
   "cell_type": "code",
   "execution_count": 27,
   "id": "680839f2",
   "metadata": {},
   "outputs": [
    {
     "name": "stdout",
     "output_type": "stream",
     "text": [
      "['bulldog', 'pug', 'Golden Retriever', 'labrador']\n",
      "['bulldog', 'pug', 'Pomerarian', 'Golden Retriever', 'labrador']\n",
      "['bulldog', 'Pomerarian', 'Golden Retriever', 'labrador']\n",
      "['bulldog', 'Golden Retriever', 'labrador', 'Pomerarian']\n",
      "['bulldog', 'Golden Retriever', 'labrador']\n",
      "[]\n"
     ]
    }
   ],
   "source": [
    "#List methods\n",
    "dogs = ['bulldog','pug','Golden Retriever']\n",
    "dogs.append('labrador')\n",
    "print(dogs)\n",
    "dogs.insert(2,'Pomerarian')\n",
    "print(dogs)\n",
    "dogs.remove('pug')\n",
    "print(dogs)\n",
    "dogs.pop()\n",
    "print(dogs)\n",
    "dogs.clear()\n",
    "print(dogs)"
   ]
  },
  {
   "cell_type": "code",
   "execution_count": 25,
   "id": "d86ca68f",
   "metadata": {},
   "outputs": [
    {
     "name": "stdout",
     "output_type": "stream",
     "text": [
      "2\n",
      "[0, 0, 8, 9]\n",
      "[9, 8, 0, 0]\n",
      "9\n",
      "0\n"
     ]
    }
   ],
   "source": [
    "a = [0,9,0,8]\n",
    "print(a.count(0))\n",
    "\n",
    "a.sort()\n",
    "print(a) # Ascending\n",
    "\n",
    "a.reverse()\n",
    "print(a) # Decending\n",
    "\n",
    "\n",
    "print(max(a)) # Largest element\n",
    "\n",
    "print(min(a)) # Smallest element"
   ]
  },
  {
   "cell_type": "code",
   "execution_count": 34,
   "id": "d0d80ba6",
   "metadata": {},
   "outputs": [
    {
     "name": "stdout",
     "output_type": "stream",
     "text": [
      "Tuple:  (1, 3, 'hi')\n",
      "\n",
      "\n",
      "Second element:  3\n",
      "Count 'hi':  1\n",
      "\n",
      "\n",
      "Joining 2 tuples:  (1, 3, 'hi', 'hello', 90, 78, 6.89)\n",
      "Multipling a tuple:  ('hello', 90, 78, 6.89, 'hello', 90, 78, 6.89, 'hello', 90, 78, 6.89)\n"
     ]
    }
   ],
   "source": [
    "#TUPLE\n",
    "\n",
    "tup1 = (1,3,'hi')\n",
    "#tup1[2] = 5\n",
    "#TypeError: 'tuple' object does not support item assignment\n",
    "print(\"Tuple: \",tup1)\n",
    "\n",
    "print(\"\\n\")\n",
    "print(\"Second element: \",tup1[1]) \n",
    "print(\"Count of 'hi': \",tup1.count('hi'))\n",
    "\n",
    "print(\"\\n\")\n",
    "tup2 = ('hello',90,78,6.89)\n",
    "print(\"Joining 2 tuples: \",tup1+tup2)\n",
    "print(\"Multipling a tuple: \",tup2*3)\n",
    "del tup2"
   ]
  },
  {
   "cell_type": "code",
   "execution_count": 38,
   "id": "2654dbcc",
   "metadata": {},
   "outputs": [
    {
     "name": "stdout",
     "output_type": "stream",
     "text": [
      "3\n",
      "90\n",
      "6.89\n",
      "[6.89, 78, 90]\n",
      "174.89\n"
     ]
    }
   ],
   "source": [
    "tup3 = (90,78,6.89)\n",
    "print(len(tup3))\n",
    "print(max(tup3))\n",
    "print(min(tup3))\n",
    "print(sorted(tup3))\n",
    "print(sum(tup3))"
   ]
  },
  {
   "cell_type": "code",
   "execution_count": 4,
   "id": "e66ac66b",
   "metadata": {},
   "outputs": [
    {
     "name": "stdout",
     "output_type": "stream",
     "text": [
      "Enter a message: Hello ;)\n",
      "Hello 😉 \n"
     ]
    }
   ],
   "source": [
    "#Emoji convertor\n",
    "msg = input(\"Enter a message: \")\n",
    "words = msg.split(\" \")\n",
    "emojis={\n",
    "    \":)\":\"😊\",\n",
    "    \":(\":\"😌\",\n",
    "    \";)\":\"😉\",\n",
    "    \":o\":\"😮\",\n",
    "    \"**\":\"😃\"\n",
    "}\n",
    "output = ''\n",
    "for word in words:\n",
    "    output += emojis.get(word,word)+\" \"\n",
    "print(output)"
   ]
  },
  {
   "cell_type": "code",
   "execution_count": 10,
   "id": "933ecb61",
   "metadata": {},
   "outputs": [
    {
     "name": "stdout",
     "output_type": "stream",
     "text": [
      "{'Apple': 34, 'grapes': 35, 'guava': 34, 'orange': 35}\n",
      "{'Apple': 34, 'grapes': 35, 'orange': 35}\n"
     ]
    }
   ],
   "source": [
    "#dictionary functions\n",
    "f ={\"Apple\":34,\"grapes\":35}\n",
    "g = {\"guava\":34,\"orange\":35}\n",
    "f.update(g)\n",
    "print(f)\n",
    "\n",
    "f.pop(\"guava\")\n",
    "print(f)"
   ]
  },
  {
   "cell_type": "code",
   "execution_count": 18,
   "id": "8b32b73a",
   "metadata": {},
   "outputs": [
    {
     "name": "stdout",
     "output_type": "stream",
     "text": [
      "{False, 3, 4, 5, 6.0, 'hai'}\n",
      "{False, 3, 5, 6.0, 'hi', 89, 34, 'hai'}\n",
      "{3, 'hi'}\n"
     ]
    }
   ],
   "source": [
    "#Set operations\n",
    "s1 = {3,4,5,5,6.0,'hai',False}\n",
    "print(s1)\n",
    "\n",
    "s1.update([34,89])\n",
    "s1.add(\"hi\")\n",
    "s1.remove(4)\n",
    "print(s1)\n",
    "\n",
    "s2 = {3,'hi'}\n",
    "print(s1.intersection(s2))"
   ]
  },
  {
   "cell_type": "code",
   "execution_count": 12,
   "id": "7ddc9266",
   "metadata": {},
   "outputs": [
    {
     "name": "stdout",
     "output_type": "stream",
     "text": [
      "Enter a number to divide 30: 0\n",
      "The number cannot be zero!\n"
     ]
    }
   ],
   "source": [
    "try:\n",
    "    number = int(input(\"Enter a number to divide 30: \"))\n",
    "    result = 30/number\n",
    "    print(f\"30/{number} = \",result)\n",
    "except ValueError:\n",
    "    print(\"Invalid input 🙄\")\n",
    "except ZeroDivisionError:\n",
    "    print(\"The number cannot be zero!\")"
   ]
  },
  {
   "cell_type": "code",
   "execution_count": 13,
   "id": "0b7d2b3a",
   "metadata": {},
   "outputs": [
    {
     "name": "stdout",
     "output_type": "stream",
     "text": [
      "Hai, I am Lambda Function\n"
     ]
    }
   ],
   "source": [
    "x = \"Hai, I am Lambda Function\"\n",
    "(lambda x : print(x))(x)"
   ]
  },
  {
   "cell_type": "code",
   "execution_count": 15,
   "id": "05248268",
   "metadata": {},
   "outputs": [
    {
     "name": "stdout",
     "output_type": "stream",
     "text": [
      "The cube root of 64 : 4.0\n",
      "The cube root of 343 : 7.0\n",
      "The cube root of 27 : 3.0\n",
      "[4. 7. 3.]\n"
     ]
    }
   ],
   "source": [
    "from scipy.special import cbrt  # import the module\n",
    "l=[64, 343, 27]      # list\n",
    "re=cbrt(l)        # use of cbrt() method\n",
    "n=0\n",
    "# to get the cube root one by one\n",
    "for i in re:\n",
    "    print(\"The cube root of\",l[n],\":\",i)\n",
    "    n=n+1\n",
    "print(re)"
   ]
  },
  {
   "cell_type": "code",
   "execution_count": null,
   "id": "1346ac6b",
   "metadata": {},
   "outputs": [],
   "source": []
  }
 ],
 "metadata": {
  "kernelspec": {
   "display_name": "Python 3 (ipykernel)",
   "language": "python",
   "name": "python3"
  },
  "language_info": {
   "codemirror_mode": {
    "name": "ipython",
    "version": 3
   },
   "file_extension": ".py",
   "mimetype": "text/x-python",
   "name": "python",
   "nbconvert_exporter": "python",
   "pygments_lexer": "ipython3",
   "version": "3.10.2"
  }
 },
 "nbformat": 4,
 "nbformat_minor": 5
}
